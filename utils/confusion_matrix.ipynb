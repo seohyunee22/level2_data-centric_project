{
 "cells": [
  {
   "cell_type": "markdown",
   "metadata": {},
   "source": [
    "## Load Libraries"
   ]
  },
  {
   "cell_type": "code",
   "execution_count": null,
   "metadata": {},
   "outputs": [],
   "source": [
    "import pandas as pd\n",
    "import numpy as np\n",
    "from sklearn.metrics import confusion_matrix\n",
    "import seaborn as sns\n",
    "import matplotlib.pyplot as plt\n",
    "from sklearn.model_selection import train_test_split\n",
    "import random\n",
    "import torch"
   ]
  },
  {
   "cell_type": "markdown",
   "metadata": {},
   "source": [
    "## SET SEED"
   ]
  },
  {
   "cell_type": "code",
   "execution_count": null,
   "metadata": {},
   "outputs": [],
   "source": [
    "SEED = 456\n",
    "random.seed(SEED)\n",
    "np.random.seed(SEED)\n",
    "torch.manual_seed(SEED)\n",
    "torch.cuda.manual_seed(SEED)\n",
    "torch.cuda.manual_seed_all(SEED)"
   ]
  },
  {
   "cell_type": "markdown",
   "metadata": {},
   "source": [
    "## Confusion Matrix"
   ]
  },
  {
   "cell_type": "markdown",
   "metadata": {},
   "source": [
    "- inference 후에 나온 output과 비교해야 한다.\n",
    "- SEED는 동일해야 한다."
   ]
  },
  {
   "cell_type": "code",
   "execution_count": null,
   "metadata": {},
   "outputs": [],
   "source": [
    "data = pd.read_csv(\"train.csv\")\n",
    "\n",
    "dataset_train, dataset_valid = train_test_split(data, test_size=0.2, stratify=data['target'],random_state=SEED) \n",
    "dataset_test = pd.read_csv(\"confusion_matrix.csv\")   # dataset_valid의 inference 결과"
   ]
  },
  {
   "cell_type": "code",
   "execution_count": null,
   "metadata": {},
   "outputs": [],
   "source": [
    "targets = list(dataset_valid['target'])\n",
    "preds = list(dataset_test['target'])"
   ]
  },
  {
   "cell_type": "code",
   "execution_count": null,
   "metadata": {},
   "outputs": [],
   "source": [
    "label_list = [0,1,2,3,4,5,6]\n",
    "\n",
    "val_labels = targets\n",
    "pred_labels = preds\n",
    "\n",
    "val_nums_arr = np.array(val_labels)\n",
    "pred_answer_arr = np.array(pred_labels)\n",
    "\n",
    "cm = confusion_matrix(val_nums_arr, pred_answer_arr)\n",
    "cm_a = confusion_matrix(val_nums_arr, val_nums_arr)"
   ]
  },
  {
   "cell_type": "markdown",
   "metadata": {},
   "source": [
    "- basic confusion matrix"
   ]
  },
  {
   "cell_type": "code",
   "execution_count": null,
   "metadata": {},
   "outputs": [],
   "source": [
    "sns.set(rc={'figure.figsize':(17, 15)})\n",
    "\n",
    "ax = sns.heatmap(cm, annot=True, cmap='Blues', fmt=\"d\",\n",
    "                linewidths=.5, \n",
    "                annot_kws={\"size\": 10})\n",
    "ax.set_title('Confusion Matrix\\n',fontsize=20)\n",
    "ax.set_xlabel('\\nPredicted Labels')\n",
    "ax.set_ylabel('True Labels ')\n",
    "\n",
    "ax.yaxis.set_ticklabels(label_list, rotation=0, ha=\"right\")\n",
    "plt.show()"
   ]
  },
  {
   "cell_type": "markdown",
   "metadata": {},
   "source": [
    "- normalize confusion matrix"
   ]
  },
  {
   "cell_type": "code",
   "execution_count": null,
   "metadata": {},
   "outputs": [],
   "source": [
    "cm = cm.astype('float') / cm.sum(axis=1)[:, np.newaxis]\n",
    "cm_a = cm_a.astype('float') / cm.sum(axis=1)[:, np.newaxis]\n",
    "\n",
    "\n",
    "# plot\n",
    "sns.set(rc={'figure.figsize':(17, 15)})\n",
    "\n",
    "ax = sns.heatmap(cm, annot=True, cmap='Blues', fmt=\".1f\",\n",
    "                linewidths=.5, \n",
    "                annot_kws={\"size\": 10},\n",
    "                vmin = 0.0, vmax = 1.0)\n",
    "ax.set_title('Confusion Matrix\\n',fontsize=20)\n",
    "ax.set_xlabel('\\nPredicted Labels')\n",
    "ax.set_ylabel('True Labels ')\n",
    "# ax.set_xlim(0, 1)\n",
    "\n",
    "ax.yaxis.set_ticklabels(label_list, rotation=0, ha=\"right\")\n",
    "plt.show()"
   ]
  }
 ],
 "metadata": {
  "kernelspec": {
   "display_name": "jupyter",
   "language": "python",
   "name": "envpython"
  },
  "language_info": {
   "codemirror_mode": {
    "name": "ipython",
    "version": 3
   },
   "file_extension": ".py",
   "mimetype": "text/x-python",
   "name": "python",
   "nbconvert_exporter": "python",
   "pygments_lexer": "ipython3",
   "version": "3.8.5"
  }
 },
 "nbformat": 4,
 "nbformat_minor": 2
}

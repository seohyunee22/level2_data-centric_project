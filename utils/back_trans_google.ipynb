{
 "cells": [
  {
   "cell_type": "code",
   "execution_count": null,
   "metadata": {},
   "outputs": [],
   "source": [
    "!pip uninstall googletrans\n",
    "!pip install googletrans==4.0.0-rc1"
   ]
  },
  {
   "cell_type": "markdown",
   "metadata": {},
   "source": [
    "#### 한 줄씩 추가\n",
    "- 속도는 느리나 api 한도 초과 후 데이터가 날라가는 것을 방지"
   ]
  },
  {
   "cell_type": "code",
   "execution_count": null,
   "metadata": {},
   "outputs": [],
   "source": [
    "from datasets import load_dataset  # pip install datasets\n",
    "import googletrans  # pip install googletrans==4.0.0-rc1\n",
    "import pandas as pd\n",
    "\n",
    "def BTS(input_str, translator):\n",
    "    # target language로의 번역 수행\n",
    "    temp_result = translator.translate(input_str, dest='en').text\n",
    "    # 다시 source language로의 번역 수행\n",
    "    result = translator.translate(temp_result, dest='ko').text\n",
    "    return temp_result, result\n",
    "\n",
    "# googletrans api 로드\n",
    "translator = googletrans.Translator()\n",
    "\n",
    "# 증강할 데이터 로드\n",
    "dataset = pd.read_csv(\"train.csv\")\n",
    "\n",
    "# data frame으로 변경\n",
    "ids, texts, targets, urls, dates = [], [], [], [], []\n",
    "for index, row in dataset.iterrows():\n",
    "    ids.append(row['ID'])\n",
    "    texts.append(row['text'])\n",
    "    targets.append(row['target'])\n",
    "    urls.append(row['url'])\n",
    "    dates.append(row['date'])\n",
    "\n",
    "df = pd.DataFrame({'ID': ids, 'text': texts,\n",
    "                   'target': targets, 'url': urls, 'date': dates})\n",
    "\n",
    "eng_trans_data, augmented_data, augmented_ind, wrong_ind = [], [], [], []\n",
    "for i in range(len(df)):\n",
    "    try:\n",
    "        data = df['text'].iloc[i]\n",
    "        eng_trans, augmented = BTS(data, translator)\n",
    "        \n",
    "        eng_trans_data.append(eng_trans)\n",
    "        augmented_data.append(augmented)\n",
    "        augmented_ind.append(i)\n",
    "        \n",
    "        # df DataFrame에 결과 반영\n",
    "        df.at[i, 'eng'] = eng_trans\n",
    "        df.at[i, 'text'] = augmented\n",
    "        \n",
    "        # 한 줄씩 CSV 파일에 추가\n",
    "        df.iloc[[i]].to_csv('google_augmented_dataset.csv', mode='a', header=False, index=False)\n",
    "        \n",
    "    except:\n",
    "        wrong_ind.append(i)\n",
    "        \n",
    "    if i % 200 == 0:\n",
    "        print(i, \" 번째 진행 중...\")\n"
   ]
  },
  {
   "cell_type": "markdown",
   "metadata": {},
   "source": [
    "#### 한번에 df에 추가"
   ]
  },
  {
   "cell_type": "code",
   "execution_count": null,
   "metadata": {},
   "outputs": [],
   "source": [
    "from datasets import load_dataset  # pip install datasets\n",
    "import googletrans  # pip install googletrans==4.0.0-rc1\n",
    "import pandas as pd\n",
    "\n",
    "def BTS(input_str, translator):\n",
    "    # target language로의 번역 수행\n",
    "    temp_result = translator.translate(input_str, dest='en').text\n",
    "    # 다시 source language로의 번역 수행\n",
    "    result = translator.translate(temp_result, dest='ko').text\n",
    "    return temp_result, result\n",
    "\n",
    "# 사용할 번역기 api 로드\n",
    "translator = googletrans.Translator()\n",
    "\n",
    "# 증강할 데이터 로드\n",
    "# dataset = load_dataset('klue', 'ynat')\n",
    "dataset = pd.read_csv(\"/data/ephemeral/data/train_p2g_added.csv\")\n",
    "dataset = dataset[3000:5000]\n",
    "\n",
    "# data frame으로 변경\n",
    "ids, texts, targets, urls, dates = [], [], [], [], []\n",
    "for index, row in dataset.iterrows():\n",
    "    ids.append(row['ID'])\n",
    "    texts.append(row['text'])\n",
    "    targets.append(row['target'])\n",
    "    urls.append(row['url'])\n",
    "    dates.append(row['date'])\n",
    "\n",
    "df = pd.DataFrame({'ID': ids, 'text': texts,\n",
    "                   'target': targets, 'url': urls, 'date': dates})\n",
    "\n",
    "eng_trans_data, augmented_data, augmented_ind, wrong_ind = [], [], [], []\n",
    "for i in range(len(df)):\n",
    "    try:\n",
    "        data = df['text'].iloc[i]\n",
    "        eng_trans, augmented = BTS(data, translator)\n",
    "        \n",
    "        eng_trans_data.append(eng_trans)\n",
    "        augmented_data.append(augmented)#\n",
    "        augmented_ind.append(i)#\n",
    "        #df.iloc[augmented_ind]['text'] = augmented\n",
    "        #df.iloc[augmented_ind]['eng'] = eng\n",
    "    except:\n",
    "        wrong_ind.append(i)\n",
    "    if i%200 == 0 : print(i,\" 번쨰 진행 중...\")\n",
    "\n",
    "df = df.iloc[augmented_ind]\n",
    "df['eng'] = eng_trans_data\n",
    "df['text'] = augmented_data\n",
    "print(df)\n",
    "df.to_csv('augmented_dataset.csv', mode='a', index=False)\n"
   ]
  }
 ],
 "metadata": {
  "kernelspec": {
   "display_name": "jupyter",
   "language": "python",
   "name": "envpython"
  },
  "language_info": {
   "codemirror_mode": {
    "name": "ipython",
    "version": 3
   },
   "file_extension": ".py",
   "mimetype": "text/x-python",
   "name": "python",
   "nbconvert_exporter": "python",
   "pygments_lexer": "ipython3",
   "version": "3.8.5"
  }
 },
 "nbformat": 4,
 "nbformat_minor": 2
}

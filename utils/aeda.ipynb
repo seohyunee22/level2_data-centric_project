{
 "cells": [
  {
   "cell_type": "markdown",
   "metadata": {},
   "source": [
    "#### AEDA"
   ]
  },
  {
   "cell_type": "code",
   "execution_count": 20,
   "metadata": {},
   "outputs": [],
   "source": [
    "import random\n",
    "import os\n",
    "import pandas as pd\n",
    "import numpy as np\n",
    "import torch\n",
    "\n",
    "from sklearn.model_selection import train_test_split"
   ]
  },
  {
   "cell_type": "code",
   "execution_count": 21,
   "metadata": {},
   "outputs": [],
   "source": [
    "np.random.seed(42)\n",
    "PUNCTUATIONS = ['.', ',', '!', '?', ';', ':']\n",
    "PUNC_RATIO = 0.3\n",
    "TRAIN_PATH = \"train_수정_by_model.csv\"\n",
    "DATASET_PATH = \".\"\n"
   ]
  },
  {
   "cell_type": "code",
   "execution_count": 22,
   "metadata": {},
   "outputs": [],
   "source": [
    "SEED = 456\n",
    "random.seed(SEED)\n",
    "np.random.seed(SEED)\n",
    "torch.manual_seed(SEED)\n",
    "torch.cuda.manual_seed(SEED)\n",
    "torch.cuda.manual_seed_all(SEED)"
   ]
  },
  {
   "cell_type": "code",
   "execution_count": 23,
   "metadata": {},
   "outputs": [],
   "source": [
    "data = pd.read_csv('/data/ephemeral/data/train.csv')\n",
    "\n",
    "dataset_train, dataset_valid = train_test_split(data, test_size=0.2, stratify=data['target'],random_state=SEED)"
   ]
  },
  {
   "cell_type": "code",
   "execution_count": 24,
   "metadata": {},
   "outputs": [
    {
     "name": "stdout",
     "output_type": "stream",
     "text": [
      "<class 'pandas.core.frame.DataFrame'>\n",
      "Index: 11952 entries, 4139 to 6961\n",
      "Data columns (total 6 columns):\n",
      " #   Column  Non-Null Count  Dtype  \n",
      "---  ------  --------------  -----  \n",
      " 0   ID      11952 non-null  object \n",
      " 1   text    11952 non-null  object \n",
      " 2   target  11952 non-null  int64  \n",
      " 3   url     11952 non-null  object \n",
      " 4   date    11952 non-null  object \n",
      " 5   type    11782 non-null  float64\n",
      "dtypes: float64(1), int64(1), object(4)\n",
      "memory usage: 653.6+ KB\n"
     ]
    }
   ],
   "source": [
    "dataset_train.info()"
   ]
  },
  {
   "cell_type": "code",
   "execution_count": 28,
   "metadata": {},
   "outputs": [
    {
     "name": "stdout",
     "output_type": "stream",
     "text": [
      "이시보세 연상 아내 둔 , 대선주자…프랑스식 , 싸랑 문하그로 볼까\n",
      "이시보퍼센트 통시뇨금하린 . 통보 임박…정부이통사 소송전 피할까종합\n",
      "주마 레 녀행 제주권 함더캐벼 녀름밤 달구 ? 르마긔 향연\n",
      "내년 국내 AI 스피커 800만대 보급…전체 가구 40% ! 보유\n"
     ]
    }
   ],
   "source": [
    "# 데이터 불러오기\n",
    "df = dataset_train.copy()\n",
    "\n",
    "   \n",
    "# 데이터 개수 계산\n",
    "num_samples = len(df)\n",
    "\n",
    "# 랜덤으로 7분의 1 선택\n",
    "sample_indices = random.sample(range(num_samples), num_samples // 7)\n",
    "\n",
    "dataset_train_aug = pd.DataFrame()\n",
    "\n",
    "for idx in sample_indices:\n",
    "    try:\n",
    "        sentence = df.loc[idx, 'text']\n",
    "        target = df.loc[idx, 'target']\n",
    "        data = sentence\n",
    "        words = data.split(' ')\n",
    "        # print(words)\n",
    "        q = np.random.randint(1, max(2, int(PUNC_RATIO * len(words) + 1)))\n",
    "        qs = np.random.choice(range(0, len(words)), q)\n",
    "    except Exception as e:\n",
    "        #print(f\"Sentence: {data}\")    \n",
    "        continue\n",
    "        \n",
    "    new_line = []  # 각 행을 저장할 리스트\n",
    "    for j, word in enumerate(words):\n",
    "        if j in qs:\n",
    "            # print(\"skdna\")\n",
    "            new_line.append(PUNCTUATIONS[np.random.randint(0, len(PUNCTUATIONS))])\n",
    "            new_line.append(word)\n",
    "        else:\n",
    "            new_line.append(word)\n",
    "\n",
    "    new_line_str = ' '.join(new_line)\n",
    "    print(new_line_str)\n",
    "    \n",
    "    dataset_train_aug.loc[idx, 'ID'] = df.loc[idx, 'ID']\n",
    "    dataset_train_aug.loc[idx, 'target'] = df.loc[idx, 'target']\n",
    "    dataset_train_aug.loc[idx, 'text'] = new_line_str    \n",
    "    dataset_train_aug.loc[idx, 'url'] = df.loc[idx, 'url']\n",
    "    dataset_train_aug.loc[idx, 'date'] = df.loc[idx, 'date']"
   ]
  },
  {
   "cell_type": "code",
   "execution_count": 29,
   "metadata": {},
   "outputs": [],
   "source": [
    "dataset_train_aug.to_csv('AEDA_dataset.csv',index=False)"
   ]
  },
  {
   "cell_type": "code",
   "execution_count": null,
   "metadata": {},
   "outputs": [],
   "source": []
  }
 ],
 "metadata": {
  "kernelspec": {
   "display_name": "jupyter",
   "language": "python",
   "name": "envpython"
  },
  "language_info": {
   "codemirror_mode": {
    "name": "ipython",
    "version": 3
   },
   "file_extension": ".py",
   "mimetype": "text/x-python",
   "name": "python",
   "nbconvert_exporter": "python",
   "pygments_lexer": "ipython3",
   "version": "3.8.5"
  }
 },
 "nbformat": 4,
 "nbformat_minor": 2
}

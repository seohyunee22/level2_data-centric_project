{
 "cells": [
  {
   "cell_type": "code",
   "execution_count": null,
   "metadata": {},
   "outputs": [],
   "source": [
    "!pip install g2pk"
   ]
  },
  {
   "cell_type": "code",
   "execution_count": null,
   "metadata": {},
   "outputs": [],
   "source": [
    "from g2pk import G2p\n",
    "import pandas as pd\n",
    "import numpy as np\n",
    "import random\n",
    "import re\n",
    "import os"
   ]
  },
  {
   "cell_type": "markdown",
   "metadata": {},
   "source": [
    "- g2p 데이터 생성 코드"
   ]
  },
  {
   "cell_type": "code",
   "execution_count": null,
   "metadata": {},
   "outputs": [],
   "source": [
    "# 데이터 불러오기\n",
    "train = pd.read_csv(\"train.csv\")\n",
    "\n",
    "   \n",
    "# 데이터 개수 계산\n",
    "num_samples = len(train)\n",
    "\n",
    "# 랜덤으로 7분의 1 선택\n",
    "sample_indices = random.sample(range(num_samples), num_samples // 7)\n",
    "\n",
    "# g2p 변환을 위한 객체 생성\n",
    "g2p = G2p()\n",
    "\n",
    "n1 = 0\n",
    "n2 = 0\n",
    "# 선택된 데이터에 대해 g2p 변환 적용 후 기존 데이터에 추가\n",
    "for idx in sample_indices:\n",
    "    sentence = train.loc[idx, 'text']\n",
    "    target = train.loc[idx, 'target']\n",
    "    \n",
    "    # 50%의 확률로 descriptive 옵션 적용\n",
    "    if random.random() < 0.5:\n",
    "        converted_sentence = g2p(sentence, descriptive=True)\n",
    "        n1 += 1\n",
    "        print(converted_sentence,\" : descriptive, \",n1)\n",
    "    else:\n",
    "        converted_sentence = g2p(sentence)\n",
    "        n2 += 1\n",
    "        print(converted_sentence,\" : not_descriptive, \",n2)\n",
    "    \n",
    "    # 기존 데이터에 g2p로 변환된 문장과 타겟을 추가\n",
    "    train = pd.concat([train, pd.DataFrame({'text': [converted_sentence], 'target': [target]})], ignore_index=True)\n",
    "\n",
    "# 결과 확인\n",
    "print(train)\n",
    "\n",
    "# 결과를 새로운 CSV 파일로 저장\n",
    "train.to_csv(\"new_total_arg_with_g2p.csv\", index=False)\n"
   ]
  },
  {
   "cell_type": "markdown",
   "metadata": {},
   "source": [
    "- g2p 영어 발음대로 읽어주는 기능 -> 잘 안됨"
   ]
  },
  {
   "cell_type": "code",
   "execution_count": null,
   "metadata": {},
   "outputs": [],
   "source": [
    "BASE_DIR = os.getcwd()\n",
    "DATA_DIR = os.path.join(BASE_DIR, '../data')\n",
    "OUTPUT_DIR = os.path.join(BASE_DIR, '../output')"
   ]
  },
  {
   "cell_type": "code",
   "execution_count": null,
   "metadata": {},
   "outputs": [],
   "source": [
    "def extract_english_characters(data):\n",
    "    data = str(data)\n",
    "    english_pattern = re.compile(r'[a-zA-Z]')\n",
    "    return ''.join(english_pattern.findall(data))\n",
    "\n",
    "g2p = G2p()\n",
    "\n",
    "# 데이터 불러오기\n",
    "train1 = pd.read_csv(os.path.join(DATA_DIR, 'train_p2g_added.csv')) #1183개\n",
    "train2 = pd.read_csv(os.path.join(DATA_DIR, 'train.csv')) #7000개\n",
    "train = pd.concat([train2, train1], axis=0, ignore_index=True)\n",
    "train = train.drop_duplicates(subset=['text']) #8183\n",
    "\n",
    "train['extracted_english'] = train['text'].apply(extract_english_characters)\n",
    "\n",
    "for index, row in train.iterrows():\n",
    "    if row['extracted_english'] is not None and row['extracted_english'] != '':\n",
    "        transliterated_text = g2p(row['extracted_english'])\n",
    "        result_text = re.sub(row['extracted_english'], row['extracted_english']+\"(\"+transliterated_text+\")\", row['text'])\n",
    "        print(result_text)\n",
    "        train = pd.concat([train, pd.DataFrame({'text': [converted_sentence], 'target': [target]})], ignore_index=True)\n",
    "\n",
    "print(train[['text', 'text2']])\n"
   ]
  },
  {
   "cell_type": "code",
   "execution_count": null,
   "metadata": {},
   "outputs": [],
   "source": []
  }
 ],
 "metadata": {
  "kernelspec": {
   "display_name": "jupyter",
   "language": "python",
   "name": "envpython"
  },
  "language_info": {
   "codemirror_mode": {
    "name": "ipython",
    "version": 3
   },
   "file_extension": ".py",
   "mimetype": "text/x-python",
   "name": "python",
   "nbconvert_exporter": "python",
   "pygments_lexer": "ipython3",
   "version": "3.8.5"
  }
 },
 "nbformat": 4,
 "nbformat_minor": 2
}
